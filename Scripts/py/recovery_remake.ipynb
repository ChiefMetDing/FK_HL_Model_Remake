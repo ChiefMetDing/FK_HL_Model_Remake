{
 "cells": [
  {
   "cell_type": "code",
   "execution_count": 1,
   "source": [
    "import pandas as pd\r\n",
    "import numpy as np\r\n",
    "from sqlalchemy import create_engine\r\n",
    "import psycopg2\r\n",
    "from config import db_password,g_key\r\n",
    "from config import resolution,lat_max,lat_min,lng_max,lng_min\r\n",
    "from config import t_sat,flow_rate,project_span\r\n",
    "import json\r\n",
    "from shapely.geometry import Point,shape\r\n",
    "import os\r\n",
    "from datetime import datetime,timedelta\r\n",
    "from functions import Rmax_calc,recovery_calc,month_index\r\n",
    "import scipy.optimize\r\n",
    "from geojson import Feature, FeatureCollection, Polygon"
   ],
   "outputs": [],
   "metadata": {}
  },
  {
   "cell_type": "code",
   "execution_count": 2,
   "source": [
    "# blocks information\r\n",
    "file_path = os.path.join('..','..','Resources','blocks_info.csv')\r\n",
    "blocks_df = pd.read_csv(file_path)\r\n",
    "# actual gold produciton by month\r\n",
    "file_path = os.path.join('..','..','Resources','act_monthly_oz.csv')\r\n",
    "act_oz_df = pd.read_csv(file_path)"
   ],
   "outputs": [],
   "metadata": {}
  },
  {
   "cell_type": "code",
   "execution_count": 3,
   "source": [
    "# Convert to datetime format\r\n",
    "blocks_df['stack_finish'] = pd.to_datetime(blocks_df['stack_finish'])\r\n",
    "blocks_df['leach_start'] = pd.to_datetime(blocks_df['leach_start'])\r\n",
    "blocks_df['leach_end'] = pd.to_datetime(blocks_df['leach_end'])\r\n",
    "blocks_df['leach_days'] = blocks_df['leach_end']-blocks_df['leach_start']\r\n",
    "lat_lng_list = blocks_df[['lat','lng']].values.tolist()\r\n",
    "# Create a dataframe with sequence as block_id, lift and lat_lng as columns\r\n",
    "block_leach_time = pd.DataFrame(blocks_df[['lift']])\r\n",
    "block_leach_time['lat_lng']=blocks_df[['lat','lng']].values.tolist()\r\n",
    "block_leach_time.index.name = 'block_id'\r\n",
    "# Create block_list for later index reference.\r\n",
    "block_list = block_leach_time.index.tolist()\r\n",
    "\r\n",
    "# Set up project span\r\n",
    "projectspan = (\r\n",
    "    datetime.strptime(project_span['startdate'],'%Y-%m-%d'),\r\n",
    "    datetime.strptime(project_span['enddate'],'%Y-%m-%d')\r\n",
    "    )\r\n",
    "# Create month list of the project\r\n",
    "startyear = projectspan[0].year\r\n",
    "startmonth = projectspan[0].month\r\n",
    "endyear = projectspan[1].year\r\n",
    "endmonth = projectspan[1].month\r\n",
    "monthlist = [datetime(m//12, m%12+1, 1) for m in range(startyear*12+startmonth-1, endyear*12+endmonth)]\r\n",
    "# Use monthlist create recovery dataframe\r\n",
    "leach_days_df = pd.DataFrame(monthlist,columns = ['months'])\r\n",
    "leach_ks_df = pd.DataFrame(monthlist,columns = ['months'])\r\n",
    "leach_rec_df = pd.DataFrame(monthlist,columns = ['months'])\r\n",
    "\r\n",
    "# Break dataframe to records\r\n",
    "blocks_records = blocks_df.to_records(index=False)"
   ],
   "outputs": [],
   "metadata": {}
  },
  {
   "cell_type": "code",
   "execution_count": 4,
   "source": [
    "# This block of code calculates a specific block's recovery over months.\r\n",
    "## The function takes two block indices \r\n",
    "## and the k factor that is going to be used for recovery calculation.\r\n",
    "def block_leach_days(i,ref,lift_diff):\r\n",
    "    # if the two indices are the same, means this is calculating the primary leach recovery\r\n",
    "    calc_block = blocks_records[i]\r\n",
    "    if i == ref:\r\n",
    "        start_date = pd.to_datetime(calc_block['leach_start'])\r\n",
    "        end_date = pd.to_datetime(calc_block['leach_end'])\r\n",
    "    # if the two indices are different, means calculating recoveries of blocks under secondary leach\r\n",
    "    else:\r\n",
    "        # ref_block is the block on the very top\r\n",
    "        ref_block = blocks_records[ref]\r\n",
    "        # the blocks below the ref_block inherit the leaching dates from the ref_block\r\n",
    "        # calculate leach delay\r\n",
    "        start_date = pd.to_datetime(ref_block['leach_start']) + timedelta(days = t_sat + round(lift_diff * flow_rate))\r\n",
    "        end_date = pd.to_datetime(ref_block['leach_end']) + timedelta(days = round(lift_diff * flow_rate))\r\n",
    "    # locate the month row\r\n",
    "    m_index = month_index(start_date,projectspan)\r\n",
    "    start_month = start_date.month\r\n",
    "    end_month = end_date.month + (end_date.year - start_date.year) * 12\r\n",
    "    # calcuate how much recovery that this block has achieved since the start\r\n",
    "    for m in range(start_month,end_month+1):\r\n",
    "        # calculate how many days in this month for recovery calculation\r\n",
    "        if m == start_month:\r\n",
    "            if m == 12:\r\n",
    "                days = 31 - start_date.day\r\n",
    "            else:\r\n",
    "                days = (datetime(start_date.year,start_date.month+1,1)-start_date).days\r\n",
    "        elif m == end_month:\r\n",
    "            days = end_date.day\r\n",
    "        elif m < 12:\r\n",
    "            days = (datetime(start_date.year,m+1,1)-datetime(start_date.year,m,1)).days\r\n",
    "        elif m == 12:\r\n",
    "            days = 31\r\n",
    "        else:\r\n",
    "            days = (datetime(start_date.year+1,m-12+1,1)-datetime(start_date.year+1,m-12,1)).days\r\n",
    "        # write the recovery to the rec_df.\r\n",
    "        leach_days_df.at[m_index,i] = days\r\n",
    "        m_index += 1"
   ],
   "outputs": [],
   "metadata": {}
  },
  {
   "cell_type": "code",
   "execution_count": 5,
   "source": [
    "for high in block_list:\r\n",
    "    leach_days_df[high]=0\r\n",
    "    lift_diff = 0\r\n",
    "    block_leach_days(high,high,lift_diff)\r\n",
    "    high_lift = blocks_records[high]['lift']\r\n",
    "    for low in range(0,high):\r\n",
    "        if lat_lng_list[high]==lat_lng_list[low]:\r\n",
    "            low_lift = blocks_records[low]['lift']\r\n",
    "            lift_diff = high_lift-low_lift\r\n",
    "            block_leach_days(low,high,lift_diff)"
   ],
   "outputs": [],
   "metadata": {}
  },
  {
   "cell_type": "code",
   "execution_count": 6,
   "source": [
    "print(leach_days_df[2000].tolist())\r\n",
    "leach_days_records = leach_days_df.to_records()\r\n",
    "print(leach_days_records['2000'].tolist())"
   ],
   "outputs": [
    {
     "output_type": "stream",
     "name": "stdout",
     "text": [
      "[0, 0, 0, 0, 0, 0, 0, 0, 0, 0, 26, 31, 31, 14, 31, 30, 31, 12, 0, 0, 28, 31, 30, 29, 0, 0, 10, 30, 31, 29, 0, 23, 30, 27, 24, 31, 31, 28, 4, 0, 0, 0, 0, 0, 0, 0, 0, 0, 0, 0, 0, 0, 0, 0, 0, 0, 0, 0, 0, 0, 0, 0, 0, 0, 0, 0, 0, 0, 0, 0, 0, 0]\n",
      "[0, 0, 0, 0, 0, 0, 0, 0, 0, 0, 26, 31, 31, 5, 0, 0, 0, 0, 0, 0, 0, 0, 0, 0, 0, 0, 0, 0, 0, 0, 0, 0, 0, 0, 0, 0, 0, 0, 0, 0, 0, 0, 0, 0, 0, 0, 0, 0, 0, 0, 0, 0, 0, 0, 0, 0, 0, 0, 0, 0, 0, 0, 0, 0, 0, 0, 0, 0, 0, 0, 0, 0]\n"
     ]
    }
   ],
   "metadata": {}
  },
  {
   "cell_type": "code",
   "execution_count": 42,
   "source": [
    "# Prepare k factors\r\n",
    "k = 0.0001\r\n",
    "def k_calc():\r\n",
    "    for b in block_list:\r\n",
    "        leach_ks_df[b] = k\r\n",
    "        leach_rec_df[b] = 0.0\r\n",
    "    return leach_ks_df,leach_rec_df\r\n",
    "leach_ks_df,leach_rec_df = k_calc()\r\n",
    "\r\n",
    "# Prepare Rmax\r\n",
    "rmax = blocks_df['rmax']"
   ],
   "outputs": [],
   "metadata": {}
  },
  {
   "cell_type": "code",
   "execution_count": 54,
   "source": [
    "leach_ks_records = leach_ks_df.to_records(index=False)\r\n",
    "leach_days_records = leach_days_df.to_records(index=False)\r\n",
    "leach_rec_records = leach_rec_df.to_records(index=False)"
   ],
   "outputs": [],
   "metadata": {}
  },
  {
   "cell_type": "code",
   "execution_count": 44,
   "source": [
    "for b in block_list:\r\n",
    "    leach_ks_records[f'{b}'] + leach_days_records[f'{b}']"
   ],
   "outputs": [],
   "metadata": {}
  },
  {
   "cell_type": "code",
   "execution_count": 45,
   "source": [
    "\r\n",
    "for b in block_list:\r\n",
    "    rcum = 0\r\n",
    "    b_rec = leach_rec_records[f'{b}']\r\n",
    "    for m in range(0,len(monthlist)):\r\n",
    "        R = recovery_calc(rmax[0],rcum,leach_ks_records[f'{b}'][m],leach_days_records[f'{b}'][m])\r\n",
    "        b_rec[m] += R\r\n",
    "        rcum += R"
   ],
   "outputs": [],
   "metadata": {}
  },
  {
   "cell_type": "code",
   "execution_count": 66,
   "source": [
    "leach_days_records['2000']"
   ],
   "outputs": [
    {
     "output_type": "execute_result",
     "data": {
      "text/plain": [
       "array([ 0,  0,  0,  0,  0,  0,  0,  0,  0,  0, 26, 31, 31,  5,  0,  0,  0,\n",
       "        0,  0,  0,  0,  0,  0,  0,  0,  0,  0,  0,  0,  0,  0,  0,  0,  0,\n",
       "        0,  0,  0,  0,  0,  0,  0,  0,  0,  0,  0,  0,  0,  0,  0,  0,  0,\n",
       "        0,  0,  0,  0,  0,  0,  0,  0,  0,  0,  0,  0,  0,  0,  0,  0,  0,\n",
       "        0,  0,  0,  0], dtype=int64)"
      ]
     },
     "metadata": {},
     "execution_count": 66
    }
   ],
   "metadata": {}
  },
  {
   "cell_type": "code",
   "execution_count": 58,
   "source": [
    "leach_days_df[2000].tolist()"
   ],
   "outputs": [
    {
     "output_type": "execute_result",
     "data": {
      "text/plain": [
       "[0,\n",
       " 0,\n",
       " 0,\n",
       " 0,\n",
       " 0,\n",
       " 0,\n",
       " 0,\n",
       " 0,\n",
       " 0,\n",
       " 0,\n",
       " 26,\n",
       " 31,\n",
       " 31,\n",
       " 14,\n",
       " 31,\n",
       " 30,\n",
       " 31,\n",
       " 12,\n",
       " 0,\n",
       " 0,\n",
       " 28,\n",
       " 31,\n",
       " 30,\n",
       " 29,\n",
       " 0,\n",
       " 0,\n",
       " 10,\n",
       " 30,\n",
       " 31,\n",
       " 29,\n",
       " 0,\n",
       " 23,\n",
       " 30,\n",
       " 27,\n",
       " 24,\n",
       " 31,\n",
       " 31,\n",
       " 28,\n",
       " 4,\n",
       " 0,\n",
       " 0,\n",
       " 0,\n",
       " 0,\n",
       " 0,\n",
       " 0,\n",
       " 0,\n",
       " 0,\n",
       " 0,\n",
       " 0,\n",
       " 0,\n",
       " 0,\n",
       " 0,\n",
       " 0,\n",
       " 0,\n",
       " 0,\n",
       " 0,\n",
       " 0,\n",
       " 0,\n",
       " 0,\n",
       " 0,\n",
       " 0,\n",
       " 0,\n",
       " 0,\n",
       " 0,\n",
       " 0,\n",
       " 0,\n",
       " 0,\n",
       " 0,\n",
       " 0,\n",
       " 0,\n",
       " 0,\n",
       " 0]"
      ]
     },
     "metadata": {},
     "execution_count": 58
    }
   ],
   "metadata": {}
  },
  {
   "cell_type": "code",
   "execution_count": null,
   "source": [],
   "outputs": [],
   "metadata": {}
  }
 ],
 "metadata": {
  "orig_nbformat": 4,
  "language_info": {
   "name": "python",
   "version": "3.8.5",
   "mimetype": "text/x-python",
   "codemirror_mode": {
    "name": "ipython",
    "version": 3
   },
   "pygments_lexer": "ipython3",
   "nbconvert_exporter": "python",
   "file_extension": ".py"
  },
  "kernelspec": {
   "name": "python3",
   "display_name": "Python 3.8.5 64-bit ('base': conda)"
  },
  "interpreter": {
   "hash": "189d9f5c1c3a73944c5bc223bc389f711b1fcf314b01e7cd9cbf0d2e857d51a0"
  }
 },
 "nbformat": 4,
 "nbformat_minor": 2
}