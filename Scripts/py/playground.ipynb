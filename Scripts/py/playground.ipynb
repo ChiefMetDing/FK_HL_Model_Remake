{
 "cells": [
  {
   "cell_type": "code",
   "execution_count": 5,
   "source": [
    "from functions import Rmax_calc,recovery_calc\r\n",
    "import pandas as pd\r\n",
    "import numpy as np\r\n",
    "import os\r\n",
    "from datetime import datetime,timedelta\r\n",
    "import scipy.optimize\r\n",
    "from geojson import Point, Feature, FeatureCollection, dump, Polygon"
   ],
   "outputs": [],
   "metadata": {}
  },
  {
   "cell_type": "code",
   "execution_count": 31,
   "source": [
    "polygon_1 = Polygon([[(2.38, 57.322), (-120.43, 19.15), (23.194, -20.28), (2.38, 57.322)]])\r\n",
    "properties_1 = {\"lift\": 1,\"ounces\": 15}\r\n",
    "polygon_2 = Polygon([[(2.38, 57.322), (-120.43, 19.15), (23.194, -20.28), (2.38, 57.322)]])\r\n",
    "properties_2 = {\"lift\": 1,\"ounces\": 15}\r\n",
    "features = []\r\n",
    "features.append(Feature(geometry=polygon_1, properties=properties_1))\r\n",
    "features.append(Feature(geometry=polygon_2, properties=properties_2))\r\n",
    "\r\n",
    "feature_collection = FeatureCollection(features)\r\n",
    "\r\n",
    "with open('myfile.geojson', 'w') as f:\r\n",
    "   dump(feature_collection, f)"
   ],
   "outputs": [],
   "metadata": {}
  },
  {
   "cell_type": "code",
   "execution_count": 33,
   "source": [
    "feature_collection"
   ],
   "outputs": [
    {
     "output_type": "execute_result",
     "data": {
      "text/plain": [
       "{\"features\": [{\"geometry\": {\"coordinates\": [[[2.38, 57.322], [-120.43, 19.15], [23.194, -20.28], [2.38, 57.322]]], \"type\": \"Polygon\"}, \"properties\": {\"lift\": 1, \"ounces\": 15}, \"type\": \"Feature\"}, {\"geometry\": {\"coordinates\": [[[2.38, 57.322], [-120.43, 19.15], [23.194, -20.28], [2.38, 57.322]]], \"type\": \"Polygon\"}, \"properties\": {\"lift\": 1, \"ounces\": 15}, \"type\": \"Feature\"}], \"type\": \"FeatureCollection\"}"
      ]
     },
     "metadata": {},
     "execution_count": 33
    }
   ],
   "metadata": {}
  },
  {
   "cell_type": "code",
   "execution_count": 3,
   "source": [
    "def sq(x):\r\n",
    "    a = x*x-4\r\n",
    "    return a\r\n",
    "\r\n",
    "x = scipy.optimize.broyden1(sq,2)\r\n",
    "print(x)\r\n"
   ],
   "outputs": [
    {
     "output_type": "stream",
     "name": "stdout",
     "text": [
      "2.0\n"
     ]
    }
   ],
   "metadata": {}
  },
  {
   "cell_type": "code",
   "execution_count": 10,
   "source": [
    "# blocks information\r\n",
    "file_path = os.path.join('..','..','Resources','blocks_info.csv')\r\n",
    "blocks_df = pd.read_csv(file_path)\r\n",
    "block_a = blocks_df.iloc[0]"
   ],
   "outputs": [],
   "metadata": {}
  },
  {
   "cell_type": "code",
   "execution_count": 11,
   "source": [
    "try_df = blocks_df[['tons_per_block','ounces_per_block','rmax']]"
   ],
   "outputs": [],
   "metadata": {}
  },
  {
   "cell_type": "code",
   "execution_count": 7,
   "source": [
    "def s_to_s(X):\r\n",
    "    y = [x+1 for x in X]\r\n",
    "    # y = X+1\r\n",
    "    # Obviously list calculation is faster\r\n",
    "    return y\r\n",
    "    "
   ],
   "outputs": [],
   "metadata": {}
  },
  {
   "cell_type": "code",
   "execution_count": 6,
   "source": [
    "@np.vectorize\r\n",
    "def s_to_s_new(X):\r\n",
    "    y = [x+1 for x in X]\r\n",
    "    # y = X+1\r\n",
    "    # Obviously list calculation is faster\r\n",
    "    return y"
   ],
   "outputs": [],
   "metadata": {}
  },
  {
   "cell_type": "code",
   "execution_count": 4,
   "source": [
    "result_df = pd.DataFrame(data = try_df.apply(s_to_s,axis=1).tolist())\r\n",
    "result_df.head()"
   ],
   "outputs": [
    {
     "output_type": "error",
     "ename": "NameError",
     "evalue": "name 'try_df' is not defined",
     "traceback": [
      "\u001b[1;31m---------------------------------------------------------------------------\u001b[0m",
      "\u001b[1;31mNameError\u001b[0m                                 Traceback (most recent call last)",
      "\u001b[1;32m<ipython-input-4-2c1454990841>\u001b[0m in \u001b[0;36m<module>\u001b[1;34m\u001b[0m\n\u001b[1;32m----> 1\u001b[1;33m \u001b[0mresult_df\u001b[0m \u001b[1;33m=\u001b[0m \u001b[0mpd\u001b[0m\u001b[1;33m.\u001b[0m\u001b[0mDataFrame\u001b[0m\u001b[1;33m(\u001b[0m\u001b[0mdata\u001b[0m \u001b[1;33m=\u001b[0m \u001b[0mtry_df\u001b[0m\u001b[1;33m.\u001b[0m\u001b[0mapply\u001b[0m\u001b[1;33m(\u001b[0m\u001b[0ms_to_s\u001b[0m\u001b[1;33m,\u001b[0m\u001b[0maxis\u001b[0m\u001b[1;33m=\u001b[0m\u001b[1;36m1\u001b[0m\u001b[1;33m)\u001b[0m\u001b[1;33m.\u001b[0m\u001b[0mtolist\u001b[0m\u001b[1;33m(\u001b[0m\u001b[1;33m)\u001b[0m\u001b[1;33m)\u001b[0m\u001b[1;33m\u001b[0m\u001b[1;33m\u001b[0m\u001b[0m\n\u001b[0m\u001b[0;32m      2\u001b[0m \u001b[0mresult_df\u001b[0m\u001b[1;33m.\u001b[0m\u001b[0mhead\u001b[0m\u001b[1;33m(\u001b[0m\u001b[1;33m)\u001b[0m\u001b[1;33m\u001b[0m\u001b[1;33m\u001b[0m\u001b[0m\n",
      "\u001b[1;31mNameError\u001b[0m: name 'try_df' is not defined"
     ]
    }
   ],
   "metadata": {}
  },
  {
   "cell_type": "code",
   "execution_count": null,
   "source": [
    "list_A = [(1,0.5,28),(1,0.8,30),(1,0.3,50)]\r\n",
    "list_B = [recovery_calc(x[0],x[1],0.01,x[2]) for x in list_A]\r\n",
    "list_B"
   ],
   "outputs": [
    {
     "output_type": "execute_result",
     "data": {
      "text/plain": [
       "[0.06140350877192985, 0.011320754716981102, 0.18148148148148147]"
      ]
     },
     "metadata": {},
     "execution_count": 3
    }
   ],
   "metadata": {}
  },
  {
   "cell_type": "code",
   "execution_count": null,
   "source": [
    "block_1 = [[1,2],2,3,4,5]\r\n",
    "block_2 = [[5,2],4,3,2,1]\r\n",
    "df = pd.DataFrame([block_1,block_2])"
   ],
   "outputs": [],
   "metadata": {}
  },
  {
   "cell_type": "code",
   "execution_count": null,
   "source": [
    "df"
   ],
   "outputs": [
    {
     "output_type": "execute_result",
     "data": {
      "text/plain": [
       "        0  1  2  3  4\n",
       "0  [1, 2]  2  3  4  5\n",
       "1  [5, 2]  4  3  2  1"
      ],
      "text/html": [
       "<div>\n",
       "<style scoped>\n",
       "    .dataframe tbody tr th:only-of-type {\n",
       "        vertical-align: middle;\n",
       "    }\n",
       "\n",
       "    .dataframe tbody tr th {\n",
       "        vertical-align: top;\n",
       "    }\n",
       "\n",
       "    .dataframe thead th {\n",
       "        text-align: right;\n",
       "    }\n",
       "</style>\n",
       "<table border=\"1\" class=\"dataframe\">\n",
       "  <thead>\n",
       "    <tr style=\"text-align: right;\">\n",
       "      <th></th>\n",
       "      <th>0</th>\n",
       "      <th>1</th>\n",
       "      <th>2</th>\n",
       "      <th>3</th>\n",
       "      <th>4</th>\n",
       "    </tr>\n",
       "  </thead>\n",
       "  <tbody>\n",
       "    <tr>\n",
       "      <th>0</th>\n",
       "      <td>[1, 2]</td>\n",
       "      <td>2</td>\n",
       "      <td>3</td>\n",
       "      <td>4</td>\n",
       "      <td>5</td>\n",
       "    </tr>\n",
       "    <tr>\n",
       "      <th>1</th>\n",
       "      <td>[5, 2]</td>\n",
       "      <td>4</td>\n",
       "      <td>3</td>\n",
       "      <td>2</td>\n",
       "      <td>1</td>\n",
       "    </tr>\n",
       "  </tbody>\n",
       "</table>\n",
       "</div>"
      ]
     },
     "metadata": {},
     "execution_count": 5
    }
   ],
   "metadata": {}
  },
  {
   "cell_type": "code",
   "execution_count": null,
   "source": [
    "def seeThis(x):\r\n",
    "    x['4']=x[1]+x[2]"
   ],
   "outputs": [],
   "metadata": {}
  },
  {
   "cell_type": "code",
   "execution_count": null,
   "source": [
    "df[1]"
   ],
   "outputs": [
    {
     "output_type": "execute_result",
     "data": {
      "text/plain": [
       "0    2\n",
       "1    4\n",
       "Name: 1, dtype: int64"
      ]
     },
     "metadata": {},
     "execution_count": 12
    }
   ],
   "metadata": {}
  },
  {
   "cell_type": "code",
   "execution_count": null,
   "source": [
    "(1,2)==(1,2)"
   ],
   "outputs": [
    {
     "output_type": "execute_result",
     "data": {
      "text/plain": [
       "True"
      ]
     },
     "metadata": {},
     "execution_count": 17
    }
   ],
   "metadata": {}
  },
  {
   "cell_type": "code",
   "execution_count": null,
   "source": [
    "seeThis(df)"
   ],
   "outputs": [],
   "metadata": {}
  },
  {
   "cell_type": "code",
   "execution_count": null,
   "source": [
    "df"
   ],
   "outputs": [
    {
     "output_type": "execute_result",
     "data": {
      "text/plain": [
       "        0  1  2  3  4  4\n",
       "0  [1, 2]  2  3  4  5  5\n",
       "1  [5, 2]  4  3  2  1  7"
      ],
      "text/html": [
       "<div>\n",
       "<style scoped>\n",
       "    .dataframe tbody tr th:only-of-type {\n",
       "        vertical-align: middle;\n",
       "    }\n",
       "\n",
       "    .dataframe tbody tr th {\n",
       "        vertical-align: top;\n",
       "    }\n",
       "\n",
       "    .dataframe thead th {\n",
       "        text-align: right;\n",
       "    }\n",
       "</style>\n",
       "<table border=\"1\" class=\"dataframe\">\n",
       "  <thead>\n",
       "    <tr style=\"text-align: right;\">\n",
       "      <th></th>\n",
       "      <th>0</th>\n",
       "      <th>1</th>\n",
       "      <th>2</th>\n",
       "      <th>3</th>\n",
       "      <th>4</th>\n",
       "      <th>4</th>\n",
       "    </tr>\n",
       "  </thead>\n",
       "  <tbody>\n",
       "    <tr>\n",
       "      <th>0</th>\n",
       "      <td>[1, 2]</td>\n",
       "      <td>2</td>\n",
       "      <td>3</td>\n",
       "      <td>4</td>\n",
       "      <td>5</td>\n",
       "      <td>5</td>\n",
       "    </tr>\n",
       "    <tr>\n",
       "      <th>1</th>\n",
       "      <td>[5, 2]</td>\n",
       "      <td>4</td>\n",
       "      <td>3</td>\n",
       "      <td>2</td>\n",
       "      <td>1</td>\n",
       "      <td>7</td>\n",
       "    </tr>\n",
       "  </tbody>\n",
       "</table>\n",
       "</div>"
      ]
     },
     "metadata": {},
     "execution_count": 14
    }
   ],
   "metadata": {}
  },
  {
   "cell_type": "code",
   "execution_count": null,
   "source": [
    "df.iloc[0][0][0]"
   ],
   "outputs": [
    {
     "output_type": "execute_result",
     "data": {
      "text/plain": [
       "1"
      ]
     },
     "metadata": {},
     "execution_count": 28
    }
   ],
   "metadata": {}
  },
  {
   "cell_type": "markdown",
   "source": [
    "dataframe of lists"
   ],
   "metadata": {}
  },
  {
   "cell_type": "code",
   "execution_count": null,
   "source": [
    "class block:\r\n",
    "    def __init__(self,rcum,days):\r\n",
    "        self.rcum = rcum\r\n",
    "        self.days = days"
   ],
   "outputs": [],
   "metadata": {}
  },
  {
   "cell_type": "code",
   "execution_count": null,
   "source": [
    "block_a = block(0.8,30)\r\n",
    "block_b = block(0.9,40)\r\n",
    "block_c = block(0.7,20)\r\n",
    "block_d = block(0.8,10)\r\n",
    "blocks = [block_a,block_b,block_c,block_d]\r\n",
    "blocks_df = pd.DataFrame(blocks)\r\n",
    "blocks_df"
   ],
   "outputs": [
    {
     "output_type": "execute_result",
     "data": {
      "text/plain": [
       "                                               0\n",
       "0  <__main__.block object at 0x000001DAFB003160>\n",
       "1  <__main__.block object at 0x000001DAFB0030A0>\n",
       "2  <__main__.block object at 0x000001DAFB0037C0>\n",
       "3  <__main__.block object at 0x000001DAFB003490>"
      ],
      "text/html": [
       "<div>\n",
       "<style scoped>\n",
       "    .dataframe tbody tr th:only-of-type {\n",
       "        vertical-align: middle;\n",
       "    }\n",
       "\n",
       "    .dataframe tbody tr th {\n",
       "        vertical-align: top;\n",
       "    }\n",
       "\n",
       "    .dataframe thead th {\n",
       "        text-align: right;\n",
       "    }\n",
       "</style>\n",
       "<table border=\"1\" class=\"dataframe\">\n",
       "  <thead>\n",
       "    <tr style=\"text-align: right;\">\n",
       "      <th></th>\n",
       "      <th>0</th>\n",
       "    </tr>\n",
       "  </thead>\n",
       "  <tbody>\n",
       "    <tr>\n",
       "      <th>0</th>\n",
       "      <td>&lt;__main__.block object at 0x000001DAFB003160&gt;</td>\n",
       "    </tr>\n",
       "    <tr>\n",
       "      <th>1</th>\n",
       "      <td>&lt;__main__.block object at 0x000001DAFB0030A0&gt;</td>\n",
       "    </tr>\n",
       "    <tr>\n",
       "      <th>2</th>\n",
       "      <td>&lt;__main__.block object at 0x000001DAFB0037C0&gt;</td>\n",
       "    </tr>\n",
       "    <tr>\n",
       "      <th>3</th>\n",
       "      <td>&lt;__main__.block object at 0x000001DAFB003490&gt;</td>\n",
       "    </tr>\n",
       "  </tbody>\n",
       "</table>\n",
       "</div>"
      ]
     },
     "metadata": {},
     "execution_count": 37
    }
   ],
   "metadata": {}
  },
  {
   "cell_type": "code",
   "execution_count": null,
   "source": [
    "see(blocks_df.iloc[0][0])"
   ],
   "outputs": [
    {
     "output_type": "execute_result",
     "data": {
      "text/plain": [
       "24.0"
      ]
     },
     "metadata": {},
     "execution_count": 43
    }
   ],
   "metadata": {}
  },
  {
   "cell_type": "code",
   "execution_count": null,
   "source": [
    "blocks_df[0].apply(see)"
   ],
   "outputs": [
    {
     "output_type": "execute_result",
     "data": {
      "text/plain": [
       "0    24.0\n",
       "1    36.0\n",
       "2    14.0\n",
       "3     8.0\n",
       "Name: 0, dtype: float64"
      ]
     },
     "metadata": {},
     "execution_count": 45
    }
   ],
   "metadata": {}
  },
  {
   "cell_type": "code",
   "execution_count": null,
   "source": [
    "def see(block):\r\n",
    "    return block.rcum*block.days"
   ],
   "outputs": [],
   "metadata": {}
  },
  {
   "cell_type": "code",
   "execution_count": null,
   "source": [
    "see(block_a)"
   ],
   "outputs": [
    {
     "output_type": "execute_result",
     "data": {
      "text/plain": [
       "24.0"
      ]
     },
     "metadata": {},
     "execution_count": 34
    }
   ],
   "metadata": {}
  },
  {
   "cell_type": "code",
   "execution_count": null,
   "source": [
    "block_a"
   ],
   "outputs": [
    {
     "output_type": "execute_result",
     "data": {
      "text/plain": [
       "<__main__.block at 0x1daf9c2baf0>"
      ]
     },
     "metadata": {},
     "execution_count": 35
    }
   ],
   "metadata": {}
  },
  {
   "cell_type": "code",
   "execution_count": null,
   "source": [
    "project_span = (\r\n",
    "    datetime(year=2019,month=1,day=1),\r\n",
    "    datetime(year=2031,month=12,day=31)\r\n",
    "    )\r\n",
    "startyear = project_span[0].year\r\n",
    "startmonth = project_span[0].month\r\n",
    "endyear = project_span[1].year\r\n",
    "endmonth = project_span[1].month\r\n",
    "monthlist = [datetime(m//12, m%12+1, 1) for m in range(startyear*12+startmonth-1, endyear*12+endmonth)]\r\n",
    "monthlist"
   ],
   "outputs": [
    {
     "output_type": "execute_result",
     "data": {
      "text/plain": [
       "[datetime.datetime(2019, 1, 1, 0, 0),\n",
       " datetime.datetime(2019, 2, 1, 0, 0),\n",
       " datetime.datetime(2019, 3, 1, 0, 0),\n",
       " datetime.datetime(2019, 4, 1, 0, 0),\n",
       " datetime.datetime(2019, 5, 1, 0, 0),\n",
       " datetime.datetime(2019, 6, 1, 0, 0),\n",
       " datetime.datetime(2019, 7, 1, 0, 0),\n",
       " datetime.datetime(2019, 8, 1, 0, 0),\n",
       " datetime.datetime(2019, 9, 1, 0, 0),\n",
       " datetime.datetime(2019, 10, 1, 0, 0),\n",
       " datetime.datetime(2019, 11, 1, 0, 0),\n",
       " datetime.datetime(2019, 12, 1, 0, 0),\n",
       " datetime.datetime(2020, 1, 1, 0, 0),\n",
       " datetime.datetime(2020, 2, 1, 0, 0),\n",
       " datetime.datetime(2020, 3, 1, 0, 0),\n",
       " datetime.datetime(2020, 4, 1, 0, 0),\n",
       " datetime.datetime(2020, 5, 1, 0, 0),\n",
       " datetime.datetime(2020, 6, 1, 0, 0),\n",
       " datetime.datetime(2020, 7, 1, 0, 0),\n",
       " datetime.datetime(2020, 8, 1, 0, 0),\n",
       " datetime.datetime(2020, 9, 1, 0, 0),\n",
       " datetime.datetime(2020, 10, 1, 0, 0),\n",
       " datetime.datetime(2020, 11, 1, 0, 0),\n",
       " datetime.datetime(2020, 12, 1, 0, 0),\n",
       " datetime.datetime(2021, 1, 1, 0, 0),\n",
       " datetime.datetime(2021, 2, 1, 0, 0),\n",
       " datetime.datetime(2021, 3, 1, 0, 0),\n",
       " datetime.datetime(2021, 4, 1, 0, 0),\n",
       " datetime.datetime(2021, 5, 1, 0, 0),\n",
       " datetime.datetime(2021, 6, 1, 0, 0),\n",
       " datetime.datetime(2021, 7, 1, 0, 0),\n",
       " datetime.datetime(2021, 8, 1, 0, 0),\n",
       " datetime.datetime(2021, 9, 1, 0, 0),\n",
       " datetime.datetime(2021, 10, 1, 0, 0),\n",
       " datetime.datetime(2021, 11, 1, 0, 0),\n",
       " datetime.datetime(2021, 12, 1, 0, 0),\n",
       " datetime.datetime(2022, 1, 1, 0, 0),\n",
       " datetime.datetime(2022, 2, 1, 0, 0),\n",
       " datetime.datetime(2022, 3, 1, 0, 0),\n",
       " datetime.datetime(2022, 4, 1, 0, 0),\n",
       " datetime.datetime(2022, 5, 1, 0, 0),\n",
       " datetime.datetime(2022, 6, 1, 0, 0),\n",
       " datetime.datetime(2022, 7, 1, 0, 0),\n",
       " datetime.datetime(2022, 8, 1, 0, 0),\n",
       " datetime.datetime(2022, 9, 1, 0, 0),\n",
       " datetime.datetime(2022, 10, 1, 0, 0),\n",
       " datetime.datetime(2022, 11, 1, 0, 0),\n",
       " datetime.datetime(2022, 12, 1, 0, 0),\n",
       " datetime.datetime(2023, 1, 1, 0, 0),\n",
       " datetime.datetime(2023, 2, 1, 0, 0),\n",
       " datetime.datetime(2023, 3, 1, 0, 0),\n",
       " datetime.datetime(2023, 4, 1, 0, 0),\n",
       " datetime.datetime(2023, 5, 1, 0, 0),\n",
       " datetime.datetime(2023, 6, 1, 0, 0),\n",
       " datetime.datetime(2023, 7, 1, 0, 0),\n",
       " datetime.datetime(2023, 8, 1, 0, 0),\n",
       " datetime.datetime(2023, 9, 1, 0, 0),\n",
       " datetime.datetime(2023, 10, 1, 0, 0),\n",
       " datetime.datetime(2023, 11, 1, 0, 0),\n",
       " datetime.datetime(2023, 12, 1, 0, 0),\n",
       " datetime.datetime(2024, 1, 1, 0, 0),\n",
       " datetime.datetime(2024, 2, 1, 0, 0),\n",
       " datetime.datetime(2024, 3, 1, 0, 0),\n",
       " datetime.datetime(2024, 4, 1, 0, 0),\n",
       " datetime.datetime(2024, 5, 1, 0, 0),\n",
       " datetime.datetime(2024, 6, 1, 0, 0),\n",
       " datetime.datetime(2024, 7, 1, 0, 0),\n",
       " datetime.datetime(2024, 8, 1, 0, 0),\n",
       " datetime.datetime(2024, 9, 1, 0, 0),\n",
       " datetime.datetime(2024, 10, 1, 0, 0),\n",
       " datetime.datetime(2024, 11, 1, 0, 0),\n",
       " datetime.datetime(2024, 12, 1, 0, 0),\n",
       " datetime.datetime(2025, 1, 1, 0, 0),\n",
       " datetime.datetime(2025, 2, 1, 0, 0),\n",
       " datetime.datetime(2025, 3, 1, 0, 0),\n",
       " datetime.datetime(2025, 4, 1, 0, 0),\n",
       " datetime.datetime(2025, 5, 1, 0, 0),\n",
       " datetime.datetime(2025, 6, 1, 0, 0),\n",
       " datetime.datetime(2025, 7, 1, 0, 0),\n",
       " datetime.datetime(2025, 8, 1, 0, 0),\n",
       " datetime.datetime(2025, 9, 1, 0, 0),\n",
       " datetime.datetime(2025, 10, 1, 0, 0),\n",
       " datetime.datetime(2025, 11, 1, 0, 0),\n",
       " datetime.datetime(2025, 12, 1, 0, 0),\n",
       " datetime.datetime(2026, 1, 1, 0, 0),\n",
       " datetime.datetime(2026, 2, 1, 0, 0),\n",
       " datetime.datetime(2026, 3, 1, 0, 0),\n",
       " datetime.datetime(2026, 4, 1, 0, 0),\n",
       " datetime.datetime(2026, 5, 1, 0, 0),\n",
       " datetime.datetime(2026, 6, 1, 0, 0),\n",
       " datetime.datetime(2026, 7, 1, 0, 0),\n",
       " datetime.datetime(2026, 8, 1, 0, 0),\n",
       " datetime.datetime(2026, 9, 1, 0, 0),\n",
       " datetime.datetime(2026, 10, 1, 0, 0),\n",
       " datetime.datetime(2026, 11, 1, 0, 0),\n",
       " datetime.datetime(2026, 12, 1, 0, 0),\n",
       " datetime.datetime(2027, 1, 1, 0, 0),\n",
       " datetime.datetime(2027, 2, 1, 0, 0),\n",
       " datetime.datetime(2027, 3, 1, 0, 0),\n",
       " datetime.datetime(2027, 4, 1, 0, 0),\n",
       " datetime.datetime(2027, 5, 1, 0, 0),\n",
       " datetime.datetime(2027, 6, 1, 0, 0),\n",
       " datetime.datetime(2027, 7, 1, 0, 0),\n",
       " datetime.datetime(2027, 8, 1, 0, 0),\n",
       " datetime.datetime(2027, 9, 1, 0, 0),\n",
       " datetime.datetime(2027, 10, 1, 0, 0),\n",
       " datetime.datetime(2027, 11, 1, 0, 0),\n",
       " datetime.datetime(2027, 12, 1, 0, 0),\n",
       " datetime.datetime(2028, 1, 1, 0, 0),\n",
       " datetime.datetime(2028, 2, 1, 0, 0),\n",
       " datetime.datetime(2028, 3, 1, 0, 0),\n",
       " datetime.datetime(2028, 4, 1, 0, 0),\n",
       " datetime.datetime(2028, 5, 1, 0, 0),\n",
       " datetime.datetime(2028, 6, 1, 0, 0),\n",
       " datetime.datetime(2028, 7, 1, 0, 0),\n",
       " datetime.datetime(2028, 8, 1, 0, 0),\n",
       " datetime.datetime(2028, 9, 1, 0, 0),\n",
       " datetime.datetime(2028, 10, 1, 0, 0),\n",
       " datetime.datetime(2028, 11, 1, 0, 0),\n",
       " datetime.datetime(2028, 12, 1, 0, 0),\n",
       " datetime.datetime(2029, 1, 1, 0, 0),\n",
       " datetime.datetime(2029, 2, 1, 0, 0),\n",
       " datetime.datetime(2029, 3, 1, 0, 0),\n",
       " datetime.datetime(2029, 4, 1, 0, 0),\n",
       " datetime.datetime(2029, 5, 1, 0, 0),\n",
       " datetime.datetime(2029, 6, 1, 0, 0),\n",
       " datetime.datetime(2029, 7, 1, 0, 0),\n",
       " datetime.datetime(2029, 8, 1, 0, 0),\n",
       " datetime.datetime(2029, 9, 1, 0, 0),\n",
       " datetime.datetime(2029, 10, 1, 0, 0),\n",
       " datetime.datetime(2029, 11, 1, 0, 0),\n",
       " datetime.datetime(2029, 12, 1, 0, 0),\n",
       " datetime.datetime(2030, 1, 1, 0, 0),\n",
       " datetime.datetime(2030, 2, 1, 0, 0),\n",
       " datetime.datetime(2030, 3, 1, 0, 0),\n",
       " datetime.datetime(2030, 4, 1, 0, 0),\n",
       " datetime.datetime(2030, 5, 1, 0, 0),\n",
       " datetime.datetime(2030, 6, 1, 0, 0),\n",
       " datetime.datetime(2030, 7, 1, 0, 0),\n",
       " datetime.datetime(2030, 8, 1, 0, 0),\n",
       " datetime.datetime(2030, 9, 1, 0, 0),\n",
       " datetime.datetime(2030, 10, 1, 0, 0),\n",
       " datetime.datetime(2030, 11, 1, 0, 0),\n",
       " datetime.datetime(2030, 12, 1, 0, 0),\n",
       " datetime.datetime(2031, 1, 1, 0, 0),\n",
       " datetime.datetime(2031, 2, 1, 0, 0),\n",
       " datetime.datetime(2031, 3, 1, 0, 0),\n",
       " datetime.datetime(2031, 4, 1, 0, 0),\n",
       " datetime.datetime(2031, 5, 1, 0, 0),\n",
       " datetime.datetime(2031, 6, 1, 0, 0),\n",
       " datetime.datetime(2031, 7, 1, 0, 0),\n",
       " datetime.datetime(2031, 8, 1, 0, 0),\n",
       " datetime.datetime(2031, 9, 1, 0, 0),\n",
       " datetime.datetime(2031, 10, 1, 0, 0),\n",
       " datetime.datetime(2031, 11, 1, 0, 0),\n",
       " datetime.datetime(2031, 12, 1, 0, 0)]"
      ]
     },
     "metadata": {},
     "execution_count": 30
    }
   ],
   "metadata": {}
  },
  {
   "cell_type": "code",
   "execution_count": null,
   "source": [
    "blocks_df = pd.DataFrame(data=\r\n",
    "    [[(1,3),1,'2019-01-01'],\r\n",
    "    [(2,3),1,'2019-02-01'],\r\n",
    "    [(1,3),2,'2020-01-01'],\r\n",
    "    [(2,3),2,'2021-01-01'],\r\n",
    "    [(1,3),3,'2021-05-01']],columns=['lat_lng','lift','date'])\r\n",
    "blocks_df['next_date'] = \"\"\r\n",
    "blocks_df"
   ],
   "outputs": [
    {
     "output_type": "execute_result",
     "data": {
      "text/plain": [
       "  lat_lng  lift        date next_date\n",
       "0  (1, 3)     1  2019-01-01          \n",
       "1  (2, 3)     1  2019-02-01          \n",
       "2  (1, 3)     2  2020-01-01          \n",
       "3  (2, 3)     2  2021-01-01          \n",
       "4  (1, 3)     3  2021-05-01          "
      ],
      "text/html": [
       "<div>\n",
       "<style scoped>\n",
       "    .dataframe tbody tr th:only-of-type {\n",
       "        vertical-align: middle;\n",
       "    }\n",
       "\n",
       "    .dataframe tbody tr th {\n",
       "        vertical-align: top;\n",
       "    }\n",
       "\n",
       "    .dataframe thead th {\n",
       "        text-align: right;\n",
       "    }\n",
       "</style>\n",
       "<table border=\"1\" class=\"dataframe\">\n",
       "  <thead>\n",
       "    <tr style=\"text-align: right;\">\n",
       "      <th></th>\n",
       "      <th>lat_lng</th>\n",
       "      <th>lift</th>\n",
       "      <th>date</th>\n",
       "      <th>next_date</th>\n",
       "    </tr>\n",
       "  </thead>\n",
       "  <tbody>\n",
       "    <tr>\n",
       "      <th>0</th>\n",
       "      <td>(1, 3)</td>\n",
       "      <td>1</td>\n",
       "      <td>2019-01-01</td>\n",
       "      <td></td>\n",
       "    </tr>\n",
       "    <tr>\n",
       "      <th>1</th>\n",
       "      <td>(2, 3)</td>\n",
       "      <td>1</td>\n",
       "      <td>2019-02-01</td>\n",
       "      <td></td>\n",
       "    </tr>\n",
       "    <tr>\n",
       "      <th>2</th>\n",
       "      <td>(1, 3)</td>\n",
       "      <td>2</td>\n",
       "      <td>2020-01-01</td>\n",
       "      <td></td>\n",
       "    </tr>\n",
       "    <tr>\n",
       "      <th>3</th>\n",
       "      <td>(2, 3)</td>\n",
       "      <td>2</td>\n",
       "      <td>2021-01-01</td>\n",
       "      <td></td>\n",
       "    </tr>\n",
       "    <tr>\n",
       "      <th>4</th>\n",
       "      <td>(1, 3)</td>\n",
       "      <td>3</td>\n",
       "      <td>2021-05-01</td>\n",
       "      <td></td>\n",
       "    </tr>\n",
       "  </tbody>\n",
       "</table>\n",
       "</div>"
      ]
     },
     "metadata": {},
     "execution_count": 54
    }
   ],
   "metadata": {}
  },
  {
   "cell_type": "code",
   "execution_count": null,
   "source": [
    "def target_function(row,r):\r\n",
    "    \r\n",
    "    for b in range(0,r):\r\n",
    "        block = blocks_df.iloc[b]\r\n",
    "        if block['lat_lng'] == row['lat_lng']:\r\n",
    "            blocks_df.at[b,'next_date'] = block['date']\r\n",
    "    \r\n",
    "            "
   ],
   "outputs": [],
   "metadata": {}
  },
  {
   "cell_type": "code",
   "execution_count": null,
   "source": [
    "for b in blocks_df.index:\r\n",
    "    target_function(blocks_df.iloc[b],b)"
   ],
   "outputs": [],
   "metadata": {}
  },
  {
   "cell_type": "code",
   "execution_count": null,
   "source": [
    "blocks_df"
   ],
   "outputs": [
    {
     "output_type": "execute_result",
     "data": {
      "text/plain": [
       "  lat_lng  lift        date   next_date\n",
       "0  (1, 3)     1  2019-01-01  2019-01-01\n",
       "1  (2, 3)     1  2019-02-01  2019-02-01\n",
       "2  (1, 3)     2  2020-01-01  2020-01-01\n",
       "3  (2, 3)     2  2021-01-01            \n",
       "4  (1, 3)     3  2021-05-01            "
      ],
      "text/html": [
       "<div>\n",
       "<style scoped>\n",
       "    .dataframe tbody tr th:only-of-type {\n",
       "        vertical-align: middle;\n",
       "    }\n",
       "\n",
       "    .dataframe tbody tr th {\n",
       "        vertical-align: top;\n",
       "    }\n",
       "\n",
       "    .dataframe thead th {\n",
       "        text-align: right;\n",
       "    }\n",
       "</style>\n",
       "<table border=\"1\" class=\"dataframe\">\n",
       "  <thead>\n",
       "    <tr style=\"text-align: right;\">\n",
       "      <th></th>\n",
       "      <th>lat_lng</th>\n",
       "      <th>lift</th>\n",
       "      <th>date</th>\n",
       "      <th>next_date</th>\n",
       "    </tr>\n",
       "  </thead>\n",
       "  <tbody>\n",
       "    <tr>\n",
       "      <th>0</th>\n",
       "      <td>(1, 3)</td>\n",
       "      <td>1</td>\n",
       "      <td>2019-01-01</td>\n",
       "      <td>2019-01-01</td>\n",
       "    </tr>\n",
       "    <tr>\n",
       "      <th>1</th>\n",
       "      <td>(2, 3)</td>\n",
       "      <td>1</td>\n",
       "      <td>2019-02-01</td>\n",
       "      <td>2019-02-01</td>\n",
       "    </tr>\n",
       "    <tr>\n",
       "      <th>2</th>\n",
       "      <td>(1, 3)</td>\n",
       "      <td>2</td>\n",
       "      <td>2020-01-01</td>\n",
       "      <td>2020-01-01</td>\n",
       "    </tr>\n",
       "    <tr>\n",
       "      <th>3</th>\n",
       "      <td>(2, 3)</td>\n",
       "      <td>2</td>\n",
       "      <td>2021-01-01</td>\n",
       "      <td></td>\n",
       "    </tr>\n",
       "    <tr>\n",
       "      <th>4</th>\n",
       "      <td>(1, 3)</td>\n",
       "      <td>3</td>\n",
       "      <td>2021-05-01</td>\n",
       "      <td></td>\n",
       "    </tr>\n",
       "  </tbody>\n",
       "</table>\n",
       "</div>"
      ]
     },
     "metadata": {},
     "execution_count": 57
    }
   ],
   "metadata": {}
  },
  {
   "cell_type": "code",
   "execution_count": null,
   "source": [
    "blocks_df.iloc[0]['next_date']='2021'"
   ],
   "outputs": [
    {
     "output_type": "stream",
     "name": "stderr",
     "text": [
      "<ipython-input-37-fbdd0a889269>:1: SettingWithCopyWarning: \n",
      "A value is trying to be set on a copy of a slice from a DataFrame\n",
      "\n",
      "See the caveats in the documentation: https://pandas.pydata.org/pandas-docs/stable/user_guide/indexing.html#returning-a-view-versus-a-copy\n",
      "  blocks_df.iloc[0]['next_date']='2021'\n"
     ]
    }
   ],
   "metadata": {}
  },
  {
   "cell_type": "code",
   "execution_count": null,
   "source": [
    "list_of_num=[1,1,1,1,1,1]\r\n",
    "sum(list_of_num[0:3])"
   ],
   "outputs": [
    {
     "output_type": "execute_result",
     "data": {
      "text/plain": [
       "3"
      ]
     },
     "metadata": {},
     "execution_count": 63
    }
   ],
   "metadata": {}
  },
  {
   "cell_type": "code",
   "execution_count": null,
   "source": [],
   "outputs": [],
   "metadata": {}
  }
 ],
 "metadata": {
  "orig_nbformat": 4,
  "language_info": {
   "name": "python",
   "version": "3.8.5",
   "mimetype": "text/x-python",
   "codemirror_mode": {
    "name": "ipython",
    "version": 3
   },
   "pygments_lexer": "ipython3",
   "nbconvert_exporter": "python",
   "file_extension": ".py"
  },
  "kernelspec": {
   "name": "python3",
   "display_name": "Python 3.8.5 64-bit ('base': conda)"
  },
  "interpreter": {
   "hash": "189d9f5c1c3a73944c5bc223bc389f711b1fcf314b01e7cd9cbf0d2e857d51a0"
  }
 },
 "nbformat": 4,
 "nbformat_minor": 2
}