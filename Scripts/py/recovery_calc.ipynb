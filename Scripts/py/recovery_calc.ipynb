{
 "cells": [
  {
   "cell_type": "code",
   "execution_count": 1,
   "source": [
    "import pandas as pd\r\n",
    "import numpy as np\r\n",
    "from sqlalchemy import create_engine\r\n",
    "import psycopg2\r\n",
    "from config import db_password,g_key\r\n",
    "from config import resolution,lat_max,lat_min,lng_max,lng_min\r\n",
    "import json\r\n",
    "from shapely.geometry import Point,shape\r\n",
    "import os\r\n",
    "from datetime import timedelta\r\n",
    "from functions import Rmax_calc"
   ],
   "outputs": [],
   "metadata": {}
  },
  {
   "cell_type": "markdown",
   "source": [
    "# Read files"
   ],
   "metadata": {}
  },
  {
   "cell_type": "code",
   "execution_count": 3,
   "source": [
    "# blocks information\r\n",
    "file_path = os.path.join('..','..','Resources','blocks_info.csv')\r\n",
    "blocks_df = pd.read_csv(file_path)"
   ],
   "outputs": [],
   "metadata": {}
  },
  {
   "cell_type": "code",
   "execution_count": 4,
   "source": [
    "blocks_df.head()"
   ],
   "outputs": [
    {
     "output_type": "execute_result",
     "data": {
      "text/plain": [
       "         lat         lng  lift  cell stack_finish leach_start   leach_end  \\\n",
       "0  65.012000 -147.351313     1     1   2019-03-27  2019-03-30  2019-07-28   \n",
       "1  65.012000 -147.350909     1     1   2019-03-27  2019-03-30  2019-07-28   \n",
       "2  65.012000 -147.350505     1     1   2019-03-27  2019-03-30  2019-07-28   \n",
       "3  65.012131 -147.352525     1     1   2019-03-27  2019-03-30  2019-07-28   \n",
       "4  65.012131 -147.352121     1     1   2019-03-27  2019-03-30  2019-07-28   \n",
       "\n",
       "  leach_days  tons_per_block  ounces_per_block      rmax  \n",
       "0   120 days      482.857471          4.069615  0.706002  \n",
       "1   120 days      482.857471          4.069615  0.706002  \n",
       "2   120 days      482.857471          4.069615  0.706002  \n",
       "3   120 days      482.857471          4.069615  0.706002  \n",
       "4   120 days      482.857471          4.069615  0.706002  "
      ],
      "text/html": [
       "<div>\n",
       "<style scoped>\n",
       "    .dataframe tbody tr th:only-of-type {\n",
       "        vertical-align: middle;\n",
       "    }\n",
       "\n",
       "    .dataframe tbody tr th {\n",
       "        vertical-align: top;\n",
       "    }\n",
       "\n",
       "    .dataframe thead th {\n",
       "        text-align: right;\n",
       "    }\n",
       "</style>\n",
       "<table border=\"1\" class=\"dataframe\">\n",
       "  <thead>\n",
       "    <tr style=\"text-align: right;\">\n",
       "      <th></th>\n",
       "      <th>lat</th>\n",
       "      <th>lng</th>\n",
       "      <th>lift</th>\n",
       "      <th>cell</th>\n",
       "      <th>stack_finish</th>\n",
       "      <th>leach_start</th>\n",
       "      <th>leach_end</th>\n",
       "      <th>leach_days</th>\n",
       "      <th>tons_per_block</th>\n",
       "      <th>ounces_per_block</th>\n",
       "      <th>rmax</th>\n",
       "    </tr>\n",
       "  </thead>\n",
       "  <tbody>\n",
       "    <tr>\n",
       "      <th>0</th>\n",
       "      <td>65.012000</td>\n",
       "      <td>-147.351313</td>\n",
       "      <td>1</td>\n",
       "      <td>1</td>\n",
       "      <td>2019-03-27</td>\n",
       "      <td>2019-03-30</td>\n",
       "      <td>2019-07-28</td>\n",
       "      <td>120 days</td>\n",
       "      <td>482.857471</td>\n",
       "      <td>4.069615</td>\n",
       "      <td>0.706002</td>\n",
       "    </tr>\n",
       "    <tr>\n",
       "      <th>1</th>\n",
       "      <td>65.012000</td>\n",
       "      <td>-147.350909</td>\n",
       "      <td>1</td>\n",
       "      <td>1</td>\n",
       "      <td>2019-03-27</td>\n",
       "      <td>2019-03-30</td>\n",
       "      <td>2019-07-28</td>\n",
       "      <td>120 days</td>\n",
       "      <td>482.857471</td>\n",
       "      <td>4.069615</td>\n",
       "      <td>0.706002</td>\n",
       "    </tr>\n",
       "    <tr>\n",
       "      <th>2</th>\n",
       "      <td>65.012000</td>\n",
       "      <td>-147.350505</td>\n",
       "      <td>1</td>\n",
       "      <td>1</td>\n",
       "      <td>2019-03-27</td>\n",
       "      <td>2019-03-30</td>\n",
       "      <td>2019-07-28</td>\n",
       "      <td>120 days</td>\n",
       "      <td>482.857471</td>\n",
       "      <td>4.069615</td>\n",
       "      <td>0.706002</td>\n",
       "    </tr>\n",
       "    <tr>\n",
       "      <th>3</th>\n",
       "      <td>65.012131</td>\n",
       "      <td>-147.352525</td>\n",
       "      <td>1</td>\n",
       "      <td>1</td>\n",
       "      <td>2019-03-27</td>\n",
       "      <td>2019-03-30</td>\n",
       "      <td>2019-07-28</td>\n",
       "      <td>120 days</td>\n",
       "      <td>482.857471</td>\n",
       "      <td>4.069615</td>\n",
       "      <td>0.706002</td>\n",
       "    </tr>\n",
       "    <tr>\n",
       "      <th>4</th>\n",
       "      <td>65.012131</td>\n",
       "      <td>-147.352121</td>\n",
       "      <td>1</td>\n",
       "      <td>1</td>\n",
       "      <td>2019-03-27</td>\n",
       "      <td>2019-03-30</td>\n",
       "      <td>2019-07-28</td>\n",
       "      <td>120 days</td>\n",
       "      <td>482.857471</td>\n",
       "      <td>4.069615</td>\n",
       "      <td>0.706002</td>\n",
       "    </tr>\n",
       "  </tbody>\n",
       "</table>\n",
       "</div>"
      ]
     },
     "metadata": {},
     "execution_count": 4
    }
   ],
   "metadata": {}
  },
  {
   "cell_type": "markdown",
   "source": [
    "# Recovery Calculation"
   ],
   "metadata": {}
  },
  {
   "cell_type": "code",
   "execution_count": null,
   "source": [],
   "outputs": [],
   "metadata": {}
  }
 ],
 "metadata": {
  "orig_nbformat": 4,
  "language_info": {
   "name": "python"
  }
 },
 "nbformat": 4,
 "nbformat_minor": 2
}